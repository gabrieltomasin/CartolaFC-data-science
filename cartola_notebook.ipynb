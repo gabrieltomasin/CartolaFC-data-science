{
 "cells": [
  {
   "cell_type": "markdown",
   "id": "00332d70-f349-4285-8cd0-2fe87d304233",
   "metadata": {
    "tags": []
   },
   "source": [
    "# Análise de dados do mercado do CartolaFC"
   ]
  },
  {
   "cell_type": "code",
   "execution_count": 122,
   "id": "ce56b1b4-efa4-4f51-815f-1c5ebf9235f0",
   "metadata": {},
   "outputs": [],
   "source": [
    "import pandas as pd\n",
    "import numpy as np\n",
    "import requests\n",
    "import matplotlib.pyplot as plt"
   ]
  },
  {
   "cell_type": "markdown",
   "id": "34142a44-94b7-460c-a369-b37df65c5971",
   "metadata": {
    "jp-MarkdownHeadingCollapsed": true,
    "tags": []
   },
   "source": [
    "## Coleta dos dados"
   ]
  },
  {
   "cell_type": "code",
   "execution_count": 2,
   "id": "1b1dcdc7-5a8a-4d93-8db7-fd4ca19e62ae",
   "metadata": {
    "tags": []
   },
   "outputs": [
    {
     "data": {
      "text/plain": [
       "{'rodada_atual': 27,\n",
       " 'status_mercado': 1,\n",
       " 'esquema_default_id': 4,\n",
       " 'cartoleta_inicial': 100,\n",
       " 'max_ligas_free': 1,\n",
       " 'max_ligas_pro': 10,\n",
       " 'max_ligas_matamata_free': 5,\n",
       " 'max_ligas_matamata_pro': 10,\n",
       " 'max_ligas_patrocinadas_free': 2,\n",
       " 'max_ligas_patrocinadas_pro_num': 2,\n",
       " 'game_over': False,\n",
       " 'temporada': 2021,\n",
       " 'reativar': True,\n",
       " 'exibe_sorteio_pro': False,\n",
       " 'fechamento': {'dia': 16,\n",
       "  'mes': 10,\n",
       "  'ano': 2021,\n",
       "  'hora': 18,\n",
       "  'minuto': 30,\n",
       "  'timestamp': 1634419800},\n",
       " 'limites_competicao': {'total_confronto_pro': 7,\n",
       "  'total_confronto_free': 3,\n",
       "  'criacao_confronto_pro': 7,\n",
       "  'criacao_confronto_free': 1},\n",
       " 'times_escalados': 650567,\n",
       " 'mercado_pos_rodada': True,\n",
       " 'novo_mes_ranking': False}"
      ]
     },
     "execution_count": 2,
     "metadata": {},
     "output_type": "execute_result"
    }
   ],
   "source": [
    "status = requests.get('https://api.cartolafc.globo.com/mercado/status').json()\n",
    "status"
   ]
  },
  {
   "cell_type": "code",
   "execution_count": 3,
   "id": "074da14b-dd28-43c6-b46d-e11cbcbfa27a",
   "metadata": {
    "tags": []
   },
   "outputs": [
    {
     "data": {
      "text/plain": [
       "dict"
      ]
     },
     "execution_count": 3,
     "metadata": {},
     "output_type": "execute_result"
    }
   ],
   "source": [
    "mercado = requests.get('https://api.cartolafc.globo.com/atletas/mercado').json()\n",
    "type(mercado)"
   ]
  },
  {
   "cell_type": "code",
   "execution_count": 4,
   "id": "910aed51-e21f-4008-924f-dbb727ebcdb2",
   "metadata": {},
   "outputs": [
    {
     "data": {
      "text/html": [
       "<div>\n",
       "<style scoped>\n",
       "    .dataframe tbody tr th:only-of-type {\n",
       "        vertical-align: middle;\n",
       "    }\n",
       "\n",
       "    .dataframe tbody tr th {\n",
       "        vertical-align: top;\n",
       "    }\n",
       "\n",
       "    .dataframe thead th {\n",
       "        text-align: right;\n",
       "    }\n",
       "</style>\n",
       "<table border=\"1\" class=\"dataframe\">\n",
       "  <thead>\n",
       "    <tr style=\"text-align: right;\">\n",
       "      <th></th>\n",
       "      <th>scout</th>\n",
       "      <th>atleta_id</th>\n",
       "      <th>rodada_id</th>\n",
       "      <th>clube_id</th>\n",
       "      <th>posicao_id</th>\n",
       "      <th>status_id</th>\n",
       "      <th>pontos_num</th>\n",
       "      <th>preco_num</th>\n",
       "      <th>variacao_num</th>\n",
       "      <th>media_num</th>\n",
       "      <th>jogos_num</th>\n",
       "      <th>slug</th>\n",
       "      <th>apelido</th>\n",
       "      <th>apelido_abreviado</th>\n",
       "      <th>nome</th>\n",
       "      <th>foto</th>\n",
       "    </tr>\n",
       "  </thead>\n",
       "  <tbody>\n",
       "    <tr>\n",
       "      <th>0</th>\n",
       "      <td>{}</td>\n",
       "      <td>70323</td>\n",
       "      <td>26</td>\n",
       "      <td>1371</td>\n",
       "      <td>6</td>\n",
       "      <td>7</td>\n",
       "      <td>5.08</td>\n",
       "      <td>4.82</td>\n",
       "      <td>0.39</td>\n",
       "      <td>3.24</td>\n",
       "      <td>16</td>\n",
       "      <td>jorginho</td>\n",
       "      <td>Jorginho</td>\n",
       "      <td>Jorginho</td>\n",
       "      <td>Jorge Amorim de Oliveira Campos</td>\n",
       "      <td>https://s.glbimg.com/es/sde/f/2021/04/27/ed89b...</td>\n",
       "    </tr>\n",
       "    <tr>\n",
       "      <th>1</th>\n",
       "      <td>{'A': 4, 'CA': 4, 'DS': 32, 'FC': 17, 'FD': 9,...</td>\n",
       "      <td>86264</td>\n",
       "      <td>26</td>\n",
       "      <td>373</td>\n",
       "      <td>2</td>\n",
       "      <td>6</td>\n",
       "      <td>0.40</td>\n",
       "      <td>12.98</td>\n",
       "      <td>-0.71</td>\n",
       "      <td>4.63</td>\n",
       "      <td>19</td>\n",
       "      <td>natanael</td>\n",
       "      <td>Natanael</td>\n",
       "      <td>Natanael</td>\n",
       "      <td>Natanael Batista Pimenta</td>\n",
       "      <td>https://s.glbimg.com/es/sde/f/2021/05/01/8d7a4...</td>\n",
       "    </tr>\n",
       "    <tr>\n",
       "      <th>2</th>\n",
       "      <td>{'A': 1, 'CA': 1, 'DS': 11, 'FC': 21, 'FD': 9,...</td>\n",
       "      <td>61033</td>\n",
       "      <td>26</td>\n",
       "      <td>265</td>\n",
       "      <td>4</td>\n",
       "      <td>6</td>\n",
       "      <td>0.00</td>\n",
       "      <td>5.77</td>\n",
       "      <td>0.04</td>\n",
       "      <td>2.25</td>\n",
       "      <td>23</td>\n",
       "      <td>rodriguinho</td>\n",
       "      <td>Rodriguinho</td>\n",
       "      <td>Rodriguinho</td>\n",
       "      <td>Rodrigo Eduardo Costa Marinho</td>\n",
       "      <td>https://s.glbimg.com/es/sde/f/2021/04/19/d6687...</td>\n",
       "    </tr>\n",
       "    <tr>\n",
       "      <th>3</th>\n",
       "      <td>{'CA': 1, 'DS': 1, 'FC': 2, 'FD': 2, 'FS': 1, ...</td>\n",
       "      <td>38231</td>\n",
       "      <td>26</td>\n",
       "      <td>277</td>\n",
       "      <td>5</td>\n",
       "      <td>6</td>\n",
       "      <td>-0.20</td>\n",
       "      <td>4.54</td>\n",
       "      <td>0.50</td>\n",
       "      <td>0.00</td>\n",
       "      <td>4</td>\n",
       "      <td>diego-tardelli</td>\n",
       "      <td>Diego Tardelli</td>\n",
       "      <td>D. Tardelli</td>\n",
       "      <td>Diego Tardelli Martins</td>\n",
       "      <td>https://s.glbimg.com/es/sde/f/2021/08/27/3054f...</td>\n",
       "    </tr>\n",
       "    <tr>\n",
       "      <th>4</th>\n",
       "      <td>{'DE': 34, 'FS': 5, 'GS': 15, 'SG': 4}</td>\n",
       "      <td>71631</td>\n",
       "      <td>26</td>\n",
       "      <td>275</td>\n",
       "      <td>1</td>\n",
       "      <td>7</td>\n",
       "      <td>0.00</td>\n",
       "      <td>14.76</td>\n",
       "      <td>0.00</td>\n",
       "      <td>3.46</td>\n",
       "      <td>12</td>\n",
       "      <td>weverton</td>\n",
       "      <td>Weverton</td>\n",
       "      <td>Weverton</td>\n",
       "      <td>Weverton Pereira da Silva</td>\n",
       "      <td>https://s.glbimg.com/es/sde/f/2021/04/30/33d63...</td>\n",
       "    </tr>\n",
       "    <tr>\n",
       "      <th>...</th>\n",
       "      <td>...</td>\n",
       "      <td>...</td>\n",
       "      <td>...</td>\n",
       "      <td>...</td>\n",
       "      <td>...</td>\n",
       "      <td>...</td>\n",
       "      <td>...</td>\n",
       "      <td>...</td>\n",
       "      <td>...</td>\n",
       "      <td>...</td>\n",
       "      <td>...</td>\n",
       "      <td>...</td>\n",
       "      <td>...</td>\n",
       "      <td>...</td>\n",
       "      <td>...</td>\n",
       "      <td>...</td>\n",
       "    </tr>\n",
       "    <tr>\n",
       "      <th>807</th>\n",
       "      <td>{'CA': 1, 'DS': 5, 'FC': 7, 'FD': 4, 'FF': 1, ...</td>\n",
       "      <td>113158</td>\n",
       "      <td>26</td>\n",
       "      <td>276</td>\n",
       "      <td>5</td>\n",
       "      <td>6</td>\n",
       "      <td>1.40</td>\n",
       "      <td>1.79</td>\n",
       "      <td>0.24</td>\n",
       "      <td>0.79</td>\n",
       "      <td>8</td>\n",
       "      <td>marquinhos</td>\n",
       "      <td>Marquinhos</td>\n",
       "      <td>Marquinhos</td>\n",
       "      <td>Marcus Vinícius Oliveira Alencar</td>\n",
       "      <td>https://s.glbimg.com/es/sde/f/2021/07/22/1a77b...</td>\n",
       "    </tr>\n",
       "    <tr>\n",
       "      <th>808</th>\n",
       "      <td>{'DS': 1, 'FC': 5, 'FD': 1, 'FS': 2, 'PI': 4}</td>\n",
       "      <td>111361</td>\n",
       "      <td>26</td>\n",
       "      <td>292</td>\n",
       "      <td>5</td>\n",
       "      <td>6</td>\n",
       "      <td>0.00</td>\n",
       "      <td>0.90</td>\n",
       "      <td>0.00</td>\n",
       "      <td>0.15</td>\n",
       "      <td>2</td>\n",
       "      <td>cristiano</td>\n",
       "      <td>Cristiano</td>\n",
       "      <td>Cristiano</td>\n",
       "      <td>Cristiano Robert do Amaral</td>\n",
       "      <td>https://s.glbimg.com/es/sde/f/2021/08/28/0281e...</td>\n",
       "    </tr>\n",
       "    <tr>\n",
       "      <th>809</th>\n",
       "      <td>{}</td>\n",
       "      <td>104424</td>\n",
       "      <td>26</td>\n",
       "      <td>284</td>\n",
       "      <td>1</td>\n",
       "      <td>6</td>\n",
       "      <td>0.00</td>\n",
       "      <td>1.00</td>\n",
       "      <td>0.00</td>\n",
       "      <td>0.00</td>\n",
       "      <td>0</td>\n",
       "      <td>felipe</td>\n",
       "      <td>Felipe</td>\n",
       "      <td>Felipe</td>\n",
       "      <td>Felipe Mateus Scheibig</td>\n",
       "      <td>https://s.glbimg.com/es/sde/f/2021/07/16/79af8...</td>\n",
       "    </tr>\n",
       "    <tr>\n",
       "      <th>810</th>\n",
       "      <td>{'CA': 2, 'DS': 3, 'FC': 5, 'FS': 1, 'PI': 6}</td>\n",
       "      <td>112379</td>\n",
       "      <td>26</td>\n",
       "      <td>284</td>\n",
       "      <td>4</td>\n",
       "      <td>6</td>\n",
       "      <td>1.00</td>\n",
       "      <td>0.79</td>\n",
       "      <td>0.02</td>\n",
       "      <td>-0.90</td>\n",
       "      <td>4</td>\n",
       "      <td>mateus-sarara</td>\n",
       "      <td>Mateus Sarará</td>\n",
       "      <td>M. Sarará</td>\n",
       "      <td>Mateus Ferreira</td>\n",
       "      <td>https://s.glbimg.com/es/sde/f/2021/07/16/1a614...</td>\n",
       "    </tr>\n",
       "    <tr>\n",
       "      <th>811</th>\n",
       "      <td>{'FC': 2, 'FS': 1}</td>\n",
       "      <td>111408</td>\n",
       "      <td>26</td>\n",
       "      <td>264</td>\n",
       "      <td>5</td>\n",
       "      <td>6</td>\n",
       "      <td>0.00</td>\n",
       "      <td>0.77</td>\n",
       "      <td>0.00</td>\n",
       "      <td>-0.17</td>\n",
       "      <td>3</td>\n",
       "      <td>felipe-augusto</td>\n",
       "      <td>Felipe Augusto</td>\n",
       "      <td>F. Augusto</td>\n",
       "      <td>Felipe Augusto da Silva</td>\n",
       "      <td>https://s.glbimg.com/es/sde/f/2021/08/06/98721...</td>\n",
       "    </tr>\n",
       "  </tbody>\n",
       "</table>\n",
       "<p>812 rows × 16 columns</p>\n",
       "</div>"
      ],
      "text/plain": [
       "                                                 scout  atleta_id  rodada_id  \\\n",
       "0                                                   {}      70323         26   \n",
       "1    {'A': 4, 'CA': 4, 'DS': 32, 'FC': 17, 'FD': 9,...      86264         26   \n",
       "2    {'A': 1, 'CA': 1, 'DS': 11, 'FC': 21, 'FD': 9,...      61033         26   \n",
       "3    {'CA': 1, 'DS': 1, 'FC': 2, 'FD': 2, 'FS': 1, ...      38231         26   \n",
       "4               {'DE': 34, 'FS': 5, 'GS': 15, 'SG': 4}      71631         26   \n",
       "..                                                 ...        ...        ...   \n",
       "807  {'CA': 1, 'DS': 5, 'FC': 7, 'FD': 4, 'FF': 1, ...     113158         26   \n",
       "808      {'DS': 1, 'FC': 5, 'FD': 1, 'FS': 2, 'PI': 4}     111361         26   \n",
       "809                                                 {}     104424         26   \n",
       "810      {'CA': 2, 'DS': 3, 'FC': 5, 'FS': 1, 'PI': 6}     112379         26   \n",
       "811                                 {'FC': 2, 'FS': 1}     111408         26   \n",
       "\n",
       "     clube_id  posicao_id  status_id  pontos_num  preco_num  variacao_num  \\\n",
       "0        1371           6          7        5.08       4.82          0.39   \n",
       "1         373           2          6        0.40      12.98         -0.71   \n",
       "2         265           4          6        0.00       5.77          0.04   \n",
       "3         277           5          6       -0.20       4.54          0.50   \n",
       "4         275           1          7        0.00      14.76          0.00   \n",
       "..        ...         ...        ...         ...        ...           ...   \n",
       "807       276           5          6        1.40       1.79          0.24   \n",
       "808       292           5          6        0.00       0.90          0.00   \n",
       "809       284           1          6        0.00       1.00          0.00   \n",
       "810       284           4          6        1.00       0.79          0.02   \n",
       "811       264           5          6        0.00       0.77          0.00   \n",
       "\n",
       "     media_num  jogos_num            slug         apelido apelido_abreviado  \\\n",
       "0         3.24         16        jorginho        Jorginho          Jorginho   \n",
       "1         4.63         19        natanael        Natanael          Natanael   \n",
       "2         2.25         23     rodriguinho     Rodriguinho       Rodriguinho   \n",
       "3         0.00          4  diego-tardelli  Diego Tardelli       D. Tardelli   \n",
       "4         3.46         12        weverton        Weverton          Weverton   \n",
       "..         ...        ...             ...             ...               ...   \n",
       "807       0.79          8      marquinhos      Marquinhos        Marquinhos   \n",
       "808       0.15          2       cristiano       Cristiano         Cristiano   \n",
       "809       0.00          0          felipe          Felipe            Felipe   \n",
       "810      -0.90          4   mateus-sarara   Mateus Sarará         M. Sarará   \n",
       "811      -0.17          3  felipe-augusto  Felipe Augusto        F. Augusto   \n",
       "\n",
       "                                 nome  \\\n",
       "0     Jorge Amorim de Oliveira Campos   \n",
       "1            Natanael Batista Pimenta   \n",
       "2       Rodrigo Eduardo Costa Marinho   \n",
       "3              Diego Tardelli Martins   \n",
       "4           Weverton Pereira da Silva   \n",
       "..                                ...   \n",
       "807  Marcus Vinícius Oliveira Alencar   \n",
       "808        Cristiano Robert do Amaral   \n",
       "809            Felipe Mateus Scheibig   \n",
       "810                   Mateus Ferreira   \n",
       "811           Felipe Augusto da Silva   \n",
       "\n",
       "                                                  foto  \n",
       "0    https://s.glbimg.com/es/sde/f/2021/04/27/ed89b...  \n",
       "1    https://s.glbimg.com/es/sde/f/2021/05/01/8d7a4...  \n",
       "2    https://s.glbimg.com/es/sde/f/2021/04/19/d6687...  \n",
       "3    https://s.glbimg.com/es/sde/f/2021/08/27/3054f...  \n",
       "4    https://s.glbimg.com/es/sde/f/2021/04/30/33d63...  \n",
       "..                                                 ...  \n",
       "807  https://s.glbimg.com/es/sde/f/2021/07/22/1a77b...  \n",
       "808  https://s.glbimg.com/es/sde/f/2021/08/28/0281e...  \n",
       "809  https://s.glbimg.com/es/sde/f/2021/07/16/79af8...  \n",
       "810  https://s.glbimg.com/es/sde/f/2021/07/16/1a614...  \n",
       "811  https://s.glbimg.com/es/sde/f/2021/08/06/98721...  \n",
       "\n",
       "[812 rows x 16 columns]"
      ]
     },
     "execution_count": 4,
     "metadata": {},
     "output_type": "execute_result"
    }
   ],
   "source": [
    "atletas_mercado = pd.DataFrame.from_dict(mercado['atletas'])\n",
    "atletas_mercado"
   ]
  },
  {
   "cell_type": "markdown",
   "id": "96f80e3f-7fb5-4f00-aff5-45243f8fdb2c",
   "metadata": {
    "jp-MarkdownHeadingCollapsed": true,
    "tags": []
   },
   "source": [
    "## Histograma de médias de pontos e preço"
   ]
  },
  {
   "cell_type": "code",
   "execution_count": 5,
   "id": "3bba906e-ef7a-41da-93fd-16c7afbb1711",
   "metadata": {},
   "outputs": [
    {
     "data": {
      "image/png": "[encoded data removed]",
      "text/plain": [
       "<Figure size 432x288 with 1 Axes>"
      ]
     },
     "metadata": {
      "needs_background": "light"
     },
     "output_type": "display_data"
    }
   ],
   "source": [
    "hist_medias = atletas_mercado['media_num'].hist()"
   ]
  },
  {
   "cell_type": "code",
   "execution_count": 6,
   "id": "0f00ed0e-e0d2-4f26-92a6-f98b8796f173",
   "metadata": {},
   "outputs": [],
   "source": [
    "fig = hist_medias.get_figure()\n",
    "fig.savefig('histograma.png')"
   ]
  },
  {
   "cell_type": "code",
   "execution_count": 7,
   "id": "ff33360e-155c-489a-9ac4-42e270bc272b",
   "metadata": {},
   "outputs": [
    {
     "data": {
      "image/png": "[encoded data removed]",
      "text/plain": [
       "<Figure size 432x288 with 1 Axes>"
      ]
     },
     "metadata": {
      "needs_background": "light"
     },
     "output_type": "display_data"
    }
   ],
   "source": [
    "hist_preco = atletas_mercado['preco_num'].hist()"
   ]
  },
  {
   "cell_type": "code",
   "execution_count": 8,
   "id": "8ab265aa-785f-484c-8b1c-f91c67c8d7e3",
   "metadata": {},
   "outputs": [],
   "source": [
    "fig = hist_preco.get_figure()\n",
    "fig.savefig('histograma_preco.png')"
   ]
  },
  {
   "cell_type": "markdown",
   "id": "d41c028d-90f4-4b34-99aa-a8729d812d53",
   "metadata": {
    "jp-MarkdownHeadingCollapsed": true,
    "tags": []
   },
   "source": [
    "## Médias dos jogadores que jogaram 10 ou mais jogos"
   ]
  },
  {
   "cell_type": "code",
   "execution_count": 9,
   "id": "a67cc0af-8619-461b-8284-5187d5491e88",
   "metadata": {},
   "outputs": [],
   "source": [
    "selecao = atletas_mercado['jogos_num'] > 9"
   ]
  },
  {
   "cell_type": "code",
   "execution_count": 10,
   "id": "85489776-3385-40c2-ac63-f439feafb0f6",
   "metadata": {},
   "outputs": [],
   "source": [
    "atletas_10 = atletas_mercado[selecao]"
   ]
  },
  {
   "cell_type": "code",
   "execution_count": 11,
   "id": "727dcc67-d77e-4171-95d5-3ee2e03ec5d0",
   "metadata": {},
   "outputs": [
    {
     "data": {
      "image/png": "[encoded data removed]",
      "text/plain": [
       "<Figure size 432x288 with 1 Axes>"
      ]
     },
     "metadata": {
      "needs_background": "light"
     },
     "output_type": "display_data"
    }
   ],
   "source": [
    "hist = atletas_10['media_num'].hist()"
   ]
  },
  {
   "cell_type": "code",
   "execution_count": 12,
   "id": "6ce5114a-c7c4-4069-8159-a72d1355ca68",
   "metadata": {},
   "outputs": [],
   "source": [
    "fig = hist.get_figure()\n",
    "fig.savefig('histograma_10.png')"
   ]
  },
  {
   "cell_type": "code",
   "execution_count": 13,
   "id": "205f9ef0-4b52-4378-a641-9fceb8e00d3c",
   "metadata": {},
   "outputs": [
    {
     "data": {
      "image/png": "[encoded data removed]",
      "text/plain": [
       "<Figure size 432x288 with 1 Axes>"
      ]
     },
     "metadata": {
      "needs_background": "light"
     },
     "output_type": "display_data"
    }
   ],
   "source": [
    "boxplot = atletas_10.boxplot(['media_num'])"
   ]
  },
  {
   "cell_type": "markdown",
   "id": "583b8a68-19d0-45ee-b9fc-ba2fee5d14f8",
   "metadata": {
    "tags": []
   },
   "source": [
    "## Comparar médias de jogadores com base no preço"
   ]
  },
  {
   "cell_type": "code",
   "execution_count": 14,
   "id": "eda23719-262f-4e29-8c7c-400ef6513f95",
   "metadata": {},
   "outputs": [
    {
     "data": {
      "image/png": "[encoded data removed]",
      "text/plain": [
       "<Figure size 432x288 with 1 Axes>"
      ]
     },
     "metadata": {
      "needs_background": "light"
     },
     "output_type": "display_data"
    }
   ],
   "source": [
    "plot = atletas_mercado.plot(x='preco_num', y='media_num', kind='scatter', xlabel='Preço', ylabel='Média')"
   ]
  },
  {
   "cell_type": "code",
   "execution_count": 15,
   "id": "dd087372-261f-47f5-9b6e-883d77a2d0b0",
   "metadata": {},
   "outputs": [
    {
     "data": {
      "text/plain": [
       "atleta_id       92182.488916\n",
       "rodada_id          26.000000\n",
       "clube_id          344.905172\n",
       "posicao_id          3.529557\n",
       "status_id           5.975369\n",
       "pontos_num          0.961034\n",
       "preco_num           4.566564\n",
       "variacao_num       -0.000086\n",
       "media_num           1.670037\n",
       "jogos_num           9.230296\n",
       "dtype: float64"
      ]
     },
     "execution_count": 15,
     "metadata": {},
     "output_type": "execute_result"
    }
   ],
   "source": [
    "atletas_mercado.mean(numeric_only=True)"
   ]
  },
  {
   "cell_type": "markdown",
   "id": "ecf4102a-e9ec-42aa-b95d-c0f6f1095d99",
   "metadata": {
    "tags": []
   },
   "source": [
    "## Quais posições pontuam mais?"
   ]
  },
  {
   "cell_type": "code",
   "execution_count": 16,
   "id": "5daea391-0673-4f8f-88ed-a4d2ae410e24",
   "metadata": {},
   "outputs": [],
   "source": [
    "atletas_por_posicao = atletas_mercado.groupby('posicao_id')"
   ]
  },
  {
   "cell_type": "code",
   "execution_count": 17,
   "id": "22345c4a-251d-47fa-944c-fdb88ffff7ed",
   "metadata": {},
   "outputs": [
    {
     "data": {
      "text/plain": [
       "posicao_id\n",
       "1    1.328046\n",
       "2    2.188000\n",
       "3    1.636350\n",
       "4    1.472586\n",
       "5    1.585417\n",
       "6    3.485000\n",
       "Name: media_num, dtype: float64"
      ]
     },
     "execution_count": 17,
     "metadata": {},
     "output_type": "execute_result"
    }
   ],
   "source": [
    "media_posicoes = atletas_por_posicao.mean()['media_num']\n",
    "media_posicoes"
   ]
  },
  {
   "cell_type": "code",
   "execution_count": 18,
   "id": "737072c7-7905-40c3-958b-d6f769b64aad",
   "metadata": {},
   "outputs": [
    {
     "data": {
      "text/plain": [
       "Int64Index([1, 2, 3, 4, 5, 6], dtype='int64', name='posicao_id')"
      ]
     },
     "execution_count": 18,
     "metadata": {},
     "output_type": "execute_result"
    }
   ],
   "source": [
    "media_posicoes.index"
   ]
  },
  {
   "cell_type": "code",
   "execution_count": 19,
   "id": "1b445084-7a72-411b-b4af-da10a0e7f9fc",
   "metadata": {},
   "outputs": [],
   "source": [
    "posicoes = pd.DataFrame.from_dict(mercado['posicoes'], orient='index')"
   ]
  },
  {
   "cell_type": "code",
   "execution_count": 20,
   "id": "127a0dc5-f3a1-4fcb-aeb0-4d9fb1bd2d6a",
   "metadata": {},
   "outputs": [],
   "source": [
    "posicoes.set_index('id', inplace=True)"
   ]
  },
  {
   "cell_type": "code",
   "execution_count": 21,
   "id": "2075f77f-17e9-463e-8d68-9eebfb66d830",
   "metadata": {},
   "outputs": [
    {
     "data": {
      "text/html": [
       "<div>\n",
       "<style scoped>\n",
       "    .dataframe tbody tr th:only-of-type {\n",
       "        vertical-align: middle;\n",
       "    }\n",
       "\n",
       "    .dataframe tbody tr th {\n",
       "        vertical-align: top;\n",
       "    }\n",
       "\n",
       "    .dataframe thead th {\n",
       "        text-align: right;\n",
       "    }\n",
       "</style>\n",
       "<table border=\"1\" class=\"dataframe\">\n",
       "  <thead>\n",
       "    <tr style=\"text-align: right;\">\n",
       "      <th></th>\n",
       "      <th>nome</th>\n",
       "      <th>abreviacao</th>\n",
       "    </tr>\n",
       "    <tr>\n",
       "      <th>id</th>\n",
       "      <th></th>\n",
       "      <th></th>\n",
       "    </tr>\n",
       "  </thead>\n",
       "  <tbody>\n",
       "    <tr>\n",
       "      <th>1</th>\n",
       "      <td>Goleiro</td>\n",
       "      <td>gol</td>\n",
       "    </tr>\n",
       "    <tr>\n",
       "      <th>2</th>\n",
       "      <td>Lateral</td>\n",
       "      <td>lat</td>\n",
       "    </tr>\n",
       "    <tr>\n",
       "      <th>3</th>\n",
       "      <td>Zagueiro</td>\n",
       "      <td>zag</td>\n",
       "    </tr>\n",
       "    <tr>\n",
       "      <th>4</th>\n",
       "      <td>Meia</td>\n",
       "      <td>mei</td>\n",
       "    </tr>\n",
       "    <tr>\n",
       "      <th>5</th>\n",
       "      <td>Atacante</td>\n",
       "      <td>ata</td>\n",
       "    </tr>\n",
       "    <tr>\n",
       "      <th>6</th>\n",
       "      <td>Técnico</td>\n",
       "      <td>tec</td>\n",
       "    </tr>\n",
       "  </tbody>\n",
       "</table>\n",
       "</div>"
      ],
      "text/plain": [
       "        nome abreviacao\n",
       "id                     \n",
       "1    Goleiro        gol\n",
       "2    Lateral        lat\n",
       "3   Zagueiro        zag\n",
       "4       Meia        mei\n",
       "5   Atacante        ata\n",
       "6    Técnico        tec"
      ]
     },
     "execution_count": 21,
     "metadata": {},
     "output_type": "execute_result"
    }
   ],
   "source": [
    "posicoes"
   ]
  },
  {
   "cell_type": "code",
   "execution_count": 22,
   "id": "f084372c-f227-4e9b-878d-67b0c9c9b3e5",
   "metadata": {},
   "outputs": [],
   "source": [
    "media_posicoes.index = posicoes['nome']"
   ]
  },
  {
   "cell_type": "code",
   "execution_count": 23,
   "id": "135c8665-8470-4596-8e51-a97ab300220f",
   "metadata": {},
   "outputs": [],
   "source": [
    "media_posicoes = media_posicoes.to_frame()"
   ]
  },
  {
   "cell_type": "code",
   "execution_count": 60,
   "id": "52f3bb32-1a98-436e-a229-064c249e521a",
   "metadata": {},
   "outputs": [
    {
     "data": {
      "text/html": [
       "<div>\n",
       "<style scoped>\n",
       "    .dataframe tbody tr th:only-of-type {\n",
       "        vertical-align: middle;\n",
       "    }\n",
       "\n",
       "    .dataframe tbody tr th {\n",
       "        vertical-align: top;\n",
       "    }\n",
       "\n",
       "    .dataframe thead th {\n",
       "        text-align: right;\n",
       "    }\n",
       "</style>\n",
       "<table border=\"1\" class=\"dataframe\">\n",
       "  <thead>\n",
       "    <tr style=\"text-align: right;\">\n",
       "      <th></th>\n",
       "      <th>Média</th>\n",
       "    </tr>\n",
       "    <tr>\n",
       "      <th>Posições</th>\n",
       "      <th></th>\n",
       "    </tr>\n",
       "  </thead>\n",
       "  <tbody>\n",
       "    <tr>\n",
       "      <th>Goleiro</th>\n",
       "      <td>1.328046</td>\n",
       "    </tr>\n",
       "    <tr>\n",
       "      <th>Lateral</th>\n",
       "      <td>2.188000</td>\n",
       "    </tr>\n",
       "    <tr>\n",
       "      <th>Zagueiro</th>\n",
       "      <td>1.636350</td>\n",
       "    </tr>\n",
       "    <tr>\n",
       "      <th>Meia</th>\n",
       "      <td>1.472586</td>\n",
       "    </tr>\n",
       "    <tr>\n",
       "      <th>Atacante</th>\n",
       "      <td>1.585417</td>\n",
       "    </tr>\n",
       "    <tr>\n",
       "      <th>Técnico</th>\n",
       "      <td>3.485000</td>\n",
       "    </tr>\n",
       "  </tbody>\n",
       "</table>\n",
       "</div>"
      ],
      "text/plain": [
       "             Média\n",
       "Posições          \n",
       "Goleiro   1.328046\n",
       "Lateral   2.188000\n",
       "Zagueiro  1.636350\n",
       "Meia      1.472586\n",
       "Atacante  1.585417\n",
       "Técnico   3.485000"
      ]
     },
     "execution_count": 60,
     "metadata": {},
     "output_type": "execute_result"
    }
   ],
   "source": [
    "media_posicoes = media_posicoes.rename(columns={'media_num':'Média'}).rename_axis('Posições')\n",
    "media_posicoes"
   ]
  },
  {
   "cell_type": "code",
   "execution_count": 25,
   "id": "47fc5a84-cf60-46be-9360-aa041a77adf5",
   "metadata": {},
   "outputs": [
    {
     "data": {
      "text/plain": [
       "<AxesSubplot:title={'center':'Média por Posição'}, xlabel='Posições'>"
      ]
     },
     "execution_count": 25,
     "metadata": {},
     "output_type": "execute_result"
    },
    {
     "data": {
      "image/png": "[encoded data removed]",
      "text/plain": [
       "<Figure size 432x288 with 1 Axes>"
      ]
     },
     "metadata": {
      "needs_background": "light"
     },
     "output_type": "display_data"
    }
   ],
   "source": [
    "media_posicoes.plot(kind='bar', title='Média por Posição', legend=False)"
   ]
  },
  {
   "cell_type": "markdown",
   "id": "be94540c-55f6-490b-bc01-88cd103e0067",
   "metadata": {
    "tags": []
   },
   "source": [
    "## Quais as médias dos times?"
   ]
  },
  {
   "cell_type": "code",
   "execution_count": 26,
   "id": "949cfb3b-f6a9-4b8e-a5b8-d27e7508dc2c",
   "metadata": {},
   "outputs": [],
   "source": [
    "atletas_por_time = atletas_mercado.groupby('clube_id')"
   ]
  },
  {
   "cell_type": "code",
   "execution_count": 27,
   "id": "3ed13c46-cd94-4cd2-acf5-81b8b8d6d7d7",
   "metadata": {},
   "outputs": [
    {
     "data": {
      "text/html": [
       "<div>\n",
       "<style scoped>\n",
       "    .dataframe tbody tr th:only-of-type {\n",
       "        vertical-align: middle;\n",
       "    }\n",
       "\n",
       "    .dataframe tbody tr th {\n",
       "        vertical-align: top;\n",
       "    }\n",
       "\n",
       "    .dataframe thead th {\n",
       "        text-align: right;\n",
       "    }\n",
       "</style>\n",
       "<table border=\"1\" class=\"dataframe\">\n",
       "  <thead>\n",
       "    <tr style=\"text-align: right;\">\n",
       "      <th></th>\n",
       "      <th>nome</th>\n",
       "      <th>abreviacao</th>\n",
       "      <th>escudos</th>\n",
       "      <th>nome_fantasia</th>\n",
       "    </tr>\n",
       "    <tr>\n",
       "      <th>id</th>\n",
       "      <th></th>\n",
       "      <th></th>\n",
       "      <th></th>\n",
       "      <th></th>\n",
       "    </tr>\n",
       "  </thead>\n",
       "  <tbody>\n",
       "    <tr>\n",
       "      <th>1371</th>\n",
       "      <td>Cuiabá</td>\n",
       "      <td>CUI</td>\n",
       "      <td>{'60x60': 'https://s.glbimg.com/es/sde/f/organ...</td>\n",
       "      <td>Cuiabá</td>\n",
       "    </tr>\n",
       "    <tr>\n",
       "      <th>262</th>\n",
       "      <td>Flamengo</td>\n",
       "      <td>FLA</td>\n",
       "      <td>{'60x60': 'https://s.glbimg.com/es/sde/f/organ...</td>\n",
       "      <td>Flamengo</td>\n",
       "    </tr>\n",
       "    <tr>\n",
       "      <th>264</th>\n",
       "      <td>Corinthians</td>\n",
       "      <td>COR</td>\n",
       "      <td>{'60x60': 'https://s.glbimg.com/es/sde/f/organ...</td>\n",
       "      <td>Corinthians</td>\n",
       "    </tr>\n",
       "    <tr>\n",
       "      <th>265</th>\n",
       "      <td>Bahia</td>\n",
       "      <td>BAH</td>\n",
       "      <td>{'60x60': 'https://s.glbimg.com/es/sde/f/organ...</td>\n",
       "      <td>Bahia</td>\n",
       "    </tr>\n",
       "    <tr>\n",
       "      <th>266</th>\n",
       "      <td>Fluminense</td>\n",
       "      <td>FLU</td>\n",
       "      <td>{'60x60': 'https://s.glbimg.com/es/sde/f/organ...</td>\n",
       "      <td>Fluminense</td>\n",
       "    </tr>\n",
       "    <tr>\n",
       "      <th>275</th>\n",
       "      <td>Palmeiras</td>\n",
       "      <td>PAL</td>\n",
       "      <td>{'60x60': 'https://s.glbimg.com/es/sde/f/organ...</td>\n",
       "      <td>Palmeiras</td>\n",
       "    </tr>\n",
       "    <tr>\n",
       "      <th>276</th>\n",
       "      <td>São Paulo</td>\n",
       "      <td>SAO</td>\n",
       "      <td>{'60x60': 'https://s.glbimg.com/es/sde/f/organ...</td>\n",
       "      <td>São Paulo</td>\n",
       "    </tr>\n",
       "    <tr>\n",
       "      <th>277</th>\n",
       "      <td>Santos</td>\n",
       "      <td>SAN</td>\n",
       "      <td>{'60x60': 'https://s.glbimg.com/es/sde/f/organ...</td>\n",
       "      <td>Santos</td>\n",
       "    </tr>\n",
       "    <tr>\n",
       "      <th>280</th>\n",
       "      <td>Bragantino</td>\n",
       "      <td>BGT</td>\n",
       "      <td>{'60x60': 'https://s.glbimg.com/es/sde/f/organ...</td>\n",
       "      <td>Bragantino</td>\n",
       "    </tr>\n",
       "    <tr>\n",
       "      <th>282</th>\n",
       "      <td>Atlético-MG</td>\n",
       "      <td>CAM</td>\n",
       "      <td>{'60x60': 'https://s.glbimg.com/es/sde/f/organ...</td>\n",
       "      <td>Atlético-MG</td>\n",
       "    </tr>\n",
       "    <tr>\n",
       "      <th>284</th>\n",
       "      <td>Grêmio</td>\n",
       "      <td>GRE</td>\n",
       "      <td>{'60x60': 'https://s.glbimg.com/es/sde/f/organ...</td>\n",
       "      <td>Grêmio</td>\n",
       "    </tr>\n",
       "    <tr>\n",
       "      <th>285</th>\n",
       "      <td>Internacional</td>\n",
       "      <td>INT</td>\n",
       "      <td>{'60x60': 'https://s.glbimg.com/es/sde/f/organ...</td>\n",
       "      <td>Internacional</td>\n",
       "    </tr>\n",
       "    <tr>\n",
       "      <th>286</th>\n",
       "      <td>Juventude</td>\n",
       "      <td>JUV</td>\n",
       "      <td>{'60x60': 'https://s.glbimg.com/es/sde/f/organ...</td>\n",
       "      <td>Juventude</td>\n",
       "    </tr>\n",
       "    <tr>\n",
       "      <th>292</th>\n",
       "      <td>Sport</td>\n",
       "      <td>SPT</td>\n",
       "      <td>{'60x60': 'https://s.glbimg.com/es/sde/f/organ...</td>\n",
       "      <td>Sport</td>\n",
       "    </tr>\n",
       "    <tr>\n",
       "      <th>293</th>\n",
       "      <td>Athlético-PR</td>\n",
       "      <td>CAP</td>\n",
       "      <td>{'60x60': 'https://s.glbimg.com/es/sde/f/organ...</td>\n",
       "      <td>Athlético-PR</td>\n",
       "    </tr>\n",
       "    <tr>\n",
       "      <th>315</th>\n",
       "      <td>Chapecoense</td>\n",
       "      <td>CHA</td>\n",
       "      <td>{'60x60': 'https://s.glbimg.com/es/sde/f/organ...</td>\n",
       "      <td>Chapecoense</td>\n",
       "    </tr>\n",
       "    <tr>\n",
       "      <th>327</th>\n",
       "      <td>América-MG</td>\n",
       "      <td>AME</td>\n",
       "      <td>{'60x60': 'https://s.glbimg.com/es/sde/f/organ...</td>\n",
       "      <td>América-MG</td>\n",
       "    </tr>\n",
       "    <tr>\n",
       "      <th>354</th>\n",
       "      <td>Ceará</td>\n",
       "      <td>CEA</td>\n",
       "      <td>{'60x60': 'https://s.glbimg.com/es/sde/f/organ...</td>\n",
       "      <td>Ceará</td>\n",
       "    </tr>\n",
       "    <tr>\n",
       "      <th>356</th>\n",
       "      <td>Fortaleza</td>\n",
       "      <td>FOR</td>\n",
       "      <td>{'60x60': 'https://s.glbimg.com/es/sde/f/organ...</td>\n",
       "      <td>Fortaleza</td>\n",
       "    </tr>\n",
       "    <tr>\n",
       "      <th>373</th>\n",
       "      <td>Atlético-GO</td>\n",
       "      <td>ACG</td>\n",
       "      <td>{'60x60': 'https://s.glbimg.com/es/sde/f/organ...</td>\n",
       "      <td>Atlético-GO</td>\n",
       "    </tr>\n",
       "  </tbody>\n",
       "</table>\n",
       "</div>"
      ],
      "text/plain": [
       "               nome abreviacao  \\\n",
       "id                               \n",
       "1371         Cuiabá        CUI   \n",
       "262        Flamengo        FLA   \n",
       "264     Corinthians        COR   \n",
       "265           Bahia        BAH   \n",
       "266      Fluminense        FLU   \n",
       "275       Palmeiras        PAL   \n",
       "276       São Paulo        SAO   \n",
       "277          Santos        SAN   \n",
       "280      Bragantino        BGT   \n",
       "282     Atlético-MG        CAM   \n",
       "284          Grêmio        GRE   \n",
       "285   Internacional        INT   \n",
       "286       Juventude        JUV   \n",
       "292           Sport        SPT   \n",
       "293    Athlético-PR        CAP   \n",
       "315     Chapecoense        CHA   \n",
       "327      América-MG        AME   \n",
       "354           Ceará        CEA   \n",
       "356       Fortaleza        FOR   \n",
       "373     Atlético-GO        ACG   \n",
       "\n",
       "                                                escudos  nome_fantasia  \n",
       "id                                                                      \n",
       "1371  {'60x60': 'https://s.glbimg.com/es/sde/f/organ...         Cuiabá  \n",
       "262   {'60x60': 'https://s.glbimg.com/es/sde/f/organ...       Flamengo  \n",
       "264   {'60x60': 'https://s.glbimg.com/es/sde/f/organ...    Corinthians  \n",
       "265   {'60x60': 'https://s.glbimg.com/es/sde/f/organ...          Bahia  \n",
       "266   {'60x60': 'https://s.glbimg.com/es/sde/f/organ...     Fluminense  \n",
       "275   {'60x60': 'https://s.glbimg.com/es/sde/f/organ...      Palmeiras  \n",
       "276   {'60x60': 'https://s.glbimg.com/es/sde/f/organ...      São Paulo  \n",
       "277   {'60x60': 'https://s.glbimg.com/es/sde/f/organ...         Santos  \n",
       "280   {'60x60': 'https://s.glbimg.com/es/sde/f/organ...     Bragantino  \n",
       "282   {'60x60': 'https://s.glbimg.com/es/sde/f/organ...    Atlético-MG  \n",
       "284   {'60x60': 'https://s.glbimg.com/es/sde/f/organ...         Grêmio  \n",
       "285   {'60x60': 'https://s.glbimg.com/es/sde/f/organ...  Internacional  \n",
       "286   {'60x60': 'https://s.glbimg.com/es/sde/f/organ...      Juventude  \n",
       "292   {'60x60': 'https://s.glbimg.com/es/sde/f/organ...          Sport  \n",
       "293   {'60x60': 'https://s.glbimg.com/es/sde/f/organ...   Athlético-PR  \n",
       "315   {'60x60': 'https://s.glbimg.com/es/sde/f/organ...    Chapecoense  \n",
       "327   {'60x60': 'https://s.glbimg.com/es/sde/f/organ...     América-MG  \n",
       "354   {'60x60': 'https://s.glbimg.com/es/sde/f/organ...          Ceará  \n",
       "356   {'60x60': 'https://s.glbimg.com/es/sde/f/organ...      Fortaleza  \n",
       "373   {'60x60': 'https://s.glbimg.com/es/sde/f/organ...    Atlético-GO  "
      ]
     },
     "execution_count": 27,
     "metadata": {},
     "output_type": "execute_result"
    }
   ],
   "source": [
    "clubes = mercado['clubes']\n",
    "clubes = pd.DataFrame.from_dict(clubes, orient='index').set_index('id')\n",
    "clubes"
   ]
  },
  {
   "cell_type": "code",
   "execution_count": 28,
   "id": "bf97fdfd-c7f9-469c-8d91-9ab92419fbb0",
   "metadata": {},
   "outputs": [
    {
     "data": {
      "text/plain": [
       "clube_id\n",
       "262     2.298696\n",
       "264     1.685250\n",
       "265     1.863500\n",
       "266     1.496750\n",
       "275     1.692128\n",
       "276     1.589211\n",
       "277     1.252444\n",
       "280     2.002308\n",
       "282     2.335000\n",
       "284     1.629524\n",
       "285     2.018919\n",
       "286     1.305000\n",
       "292     1.372821\n",
       "293     1.523250\n",
       "315     1.144681\n",
       "327     1.512200\n",
       "354     1.697073\n",
       "356     2.188000\n",
       "373     1.603784\n",
       "1371    1.427368\n",
       "Name: media_num, dtype: float64"
      ]
     },
     "execution_count": 28,
     "metadata": {},
     "output_type": "execute_result"
    }
   ],
   "source": [
    "media_por_time = atletas_por_time['media_num'].mean()\n",
    "media_por_time"
   ]
  },
  {
   "cell_type": "code",
   "execution_count": 29,
   "id": "1041a187-4bb1-46c9-a5d7-de20cd3eecf2",
   "metadata": {},
   "outputs": [
    {
     "data": {
      "text/html": [
       "<div>\n",
       "<style scoped>\n",
       "    .dataframe tbody tr th:only-of-type {\n",
       "        vertical-align: middle;\n",
       "    }\n",
       "\n",
       "    .dataframe tbody tr th {\n",
       "        vertical-align: top;\n",
       "    }\n",
       "\n",
       "    .dataframe thead th {\n",
       "        text-align: right;\n",
       "    }\n",
       "</style>\n",
       "<table border=\"1\" class=\"dataframe\">\n",
       "  <thead>\n",
       "    <tr style=\"text-align: right;\">\n",
       "      <th></th>\n",
       "      <th>nome</th>\n",
       "      <th>media_num</th>\n",
       "    </tr>\n",
       "    <tr>\n",
       "      <th>id</th>\n",
       "      <th></th>\n",
       "      <th></th>\n",
       "    </tr>\n",
       "  </thead>\n",
       "  <tbody>\n",
       "    <tr>\n",
       "      <th>282</th>\n",
       "      <td>Atlético-MG</td>\n",
       "      <td>2.335000</td>\n",
       "    </tr>\n",
       "    <tr>\n",
       "      <th>262</th>\n",
       "      <td>Flamengo</td>\n",
       "      <td>2.298696</td>\n",
       "    </tr>\n",
       "    <tr>\n",
       "      <th>356</th>\n",
       "      <td>Fortaleza</td>\n",
       "      <td>2.188000</td>\n",
       "    </tr>\n",
       "    <tr>\n",
       "      <th>285</th>\n",
       "      <td>Internacional</td>\n",
       "      <td>2.018919</td>\n",
       "    </tr>\n",
       "    <tr>\n",
       "      <th>280</th>\n",
       "      <td>Bragantino</td>\n",
       "      <td>2.002308</td>\n",
       "    </tr>\n",
       "    <tr>\n",
       "      <th>265</th>\n",
       "      <td>Bahia</td>\n",
       "      <td>1.863500</td>\n",
       "    </tr>\n",
       "    <tr>\n",
       "      <th>354</th>\n",
       "      <td>Ceará</td>\n",
       "      <td>1.697073</td>\n",
       "    </tr>\n",
       "    <tr>\n",
       "      <th>275</th>\n",
       "      <td>Palmeiras</td>\n",
       "      <td>1.692128</td>\n",
       "    </tr>\n",
       "    <tr>\n",
       "      <th>264</th>\n",
       "      <td>Corinthians</td>\n",
       "      <td>1.685250</td>\n",
       "    </tr>\n",
       "    <tr>\n",
       "      <th>284</th>\n",
       "      <td>Grêmio</td>\n",
       "      <td>1.629524</td>\n",
       "    </tr>\n",
       "    <tr>\n",
       "      <th>373</th>\n",
       "      <td>Atlético-GO</td>\n",
       "      <td>1.603784</td>\n",
       "    </tr>\n",
       "    <tr>\n",
       "      <th>276</th>\n",
       "      <td>São Paulo</td>\n",
       "      <td>1.589211</td>\n",
       "    </tr>\n",
       "    <tr>\n",
       "      <th>293</th>\n",
       "      <td>Athlético-PR</td>\n",
       "      <td>1.523250</td>\n",
       "    </tr>\n",
       "    <tr>\n",
       "      <th>327</th>\n",
       "      <td>América-MG</td>\n",
       "      <td>1.512200</td>\n",
       "    </tr>\n",
       "    <tr>\n",
       "      <th>266</th>\n",
       "      <td>Fluminense</td>\n",
       "      <td>1.496750</td>\n",
       "    </tr>\n",
       "    <tr>\n",
       "      <th>1371</th>\n",
       "      <td>Cuiabá</td>\n",
       "      <td>1.427368</td>\n",
       "    </tr>\n",
       "    <tr>\n",
       "      <th>292</th>\n",
       "      <td>Sport</td>\n",
       "      <td>1.372821</td>\n",
       "    </tr>\n",
       "    <tr>\n",
       "      <th>286</th>\n",
       "      <td>Juventude</td>\n",
       "      <td>1.305000</td>\n",
       "    </tr>\n",
       "    <tr>\n",
       "      <th>277</th>\n",
       "      <td>Santos</td>\n",
       "      <td>1.252444</td>\n",
       "    </tr>\n",
       "    <tr>\n",
       "      <th>315</th>\n",
       "      <td>Chapecoense</td>\n",
       "      <td>1.144681</td>\n",
       "    </tr>\n",
       "  </tbody>\n",
       "</table>\n",
       "</div>"
      ],
      "text/plain": [
       "               nome  media_num\n",
       "id                            \n",
       "282     Atlético-MG   2.335000\n",
       "262        Flamengo   2.298696\n",
       "356       Fortaleza   2.188000\n",
       "285   Internacional   2.018919\n",
       "280      Bragantino   2.002308\n",
       "265           Bahia   1.863500\n",
       "354           Ceará   1.697073\n",
       "275       Palmeiras   1.692128\n",
       "264     Corinthians   1.685250\n",
       "284          Grêmio   1.629524\n",
       "373     Atlético-GO   1.603784\n",
       "276       São Paulo   1.589211\n",
       "293    Athlético-PR   1.523250\n",
       "327      América-MG   1.512200\n",
       "266      Fluminense   1.496750\n",
       "1371         Cuiabá   1.427368\n",
       "292           Sport   1.372821\n",
       "286       Juventude   1.305000\n",
       "277          Santos   1.252444\n",
       "315     Chapecoense   1.144681"
      ]
     },
     "execution_count": 29,
     "metadata": {},
     "output_type": "execute_result"
    }
   ],
   "source": [
    "media_por_time = clubes.join(media_por_time).drop(columns=['abreviacao', 'escudos', 'nome_fantasia']).sort_values('media_num', ascending=False)\n",
    "media_por_time"
   ]
  },
  {
   "cell_type": "code",
   "execution_count": 30,
   "id": "99a8c65a-e6d5-4c08-9784-0792230121ba",
   "metadata": {},
   "outputs": [
    {
     "data": {
      "text/plain": [
       "<AxesSubplot:ylabel='Média de Pontos'>"
      ]
     },
     "execution_count": 30,
     "metadata": {},
     "output_type": "execute_result"
    },
    {
     "data": {
      "image/png": "[encoded data removed]",
      "text/plain": [
       "<Figure size 432x288 with 1 Axes>"
      ]
     },
     "metadata": {
      "needs_background": "light"
     },
     "output_type": "display_data"
    }
   ],
   "source": [
    "media_por_time.plot(x='nome', y='media_num', kind='bar', legend=False, xlabel='', ylabel='Média de Pontos')"
   ]
  },
  {
   "cell_type": "markdown",
   "id": "b7f3e5d7-5dc1-4175-b80a-05498c86a0a4",
   "metadata": {
    "tags": []
   },
   "source": [
    "## Quais scouts pontuam mais para cada posição?"
   ]
  },
  {
   "cell_type": "code",
   "execution_count": 31,
   "id": "bc96f215-946b-4831-9525-3eca0af2ac89",
   "metadata": {},
   "outputs": [
    {
     "name": "stdout",
     "output_type": "stream",
     "text": [
      "{1: {'DE': 1534, 'FS': 79, 'GS': 548, 'SG': 159, 'CA': 37, 'DP': 10, 'DS': 15, 'FC': 2, 'CV': 3, 'PC': 5}, 2: {'A': 81, 'CA': 182, 'DS': 2215, 'FC': 1270, 'FD': 143, 'FF': 259, 'FS': 1060, 'FT': 15, 'I': 71, 'PC': 19, 'PI': 9047, 'SG': 374, 'G': 25, 'CV': 6, 'GC': 3, 'PP': 1, 'PS': 3}, 3: {'CA': 170, 'DS': 1575, 'FC': 1080, 'FD': 103, 'FF': 219, 'FS': 643, 'PI': 4537, 'SG': 351, 'CV': 12, 'G': 33, 'A': 24, 'PC': 24, 'I': 46, 'FT': 12, 'PS': 4, 'GC': 6}, 4: {'A': 148, 'CA': 355, 'DS': 3687, 'FC': 2599, 'FD': 493, 'FF': 876, 'FS': 2455, 'FT': 55, 'G': 157, 'I': 125, 'PI': 10612, 'PP': 5, 'CV': 14, 'PS': 13, 'PC': 7, 'GC': 1}, 5: {'CA': 264, 'DS': 1461, 'FC': 1983, 'FD': 679, 'FS': 2312, 'PI': 7270, 'A': 124, 'FF': 1015, 'FT': 54, 'G': 295, 'I': 420, 'PC': 9, 'PS': 22, 'CV': 12, 'PP': 7}}\n"
     ]
    }
   ],
   "source": [
    "all_scouts = {}\n",
    "for i in range(5):\n",
    "    all_scouts[i+1] = {}\n",
    "    selecao = (atletas_mercado['posicao_id'] == i+1) & (atletas_mercado['scout'] != {})\n",
    "    for row in atletas_mercado[selecao].iterrows():\n",
    "        scout_dict = row[1].scout\n",
    "        for scout, count in scout_dict.items():\n",
    "            if scout not in all_scouts[i+1].keys():\n",
    "                all_scouts[i+1][scout] = count\n",
    "            else: all_scouts[i+1][scout] += count\n",
    "print(all_scouts)"
   ]
  },
  {
   "cell_type": "code",
   "execution_count": 95,
   "id": "aa098ae3-0b1b-4cb4-b254-c07f9f32f0b6",
   "metadata": {},
   "outputs": [
    {
     "data": {
      "text/html": [
       "<div>\n",
       "<style scoped>\n",
       "    .dataframe tbody tr th:only-of-type {\n",
       "        vertical-align: middle;\n",
       "    }\n",
       "\n",
       "    .dataframe tbody tr th {\n",
       "        vertical-align: top;\n",
       "    }\n",
       "\n",
       "    .dataframe thead th {\n",
       "        text-align: right;\n",
       "    }\n",
       "</style>\n",
       "<table border=\"1\" class=\"dataframe\">\n",
       "  <thead>\n",
       "    <tr style=\"text-align: right;\">\n",
       "      <th></th>\n",
       "      <th>goleiro</th>\n",
       "      <th>lateral</th>\n",
       "      <th>zagueiro</th>\n",
       "      <th>meia</th>\n",
       "      <th>atacante</th>\n",
       "    </tr>\n",
       "  </thead>\n",
       "  <tbody>\n",
       "    <tr>\n",
       "      <th>DE</th>\n",
       "      <td>1534.0</td>\n",
       "      <td>NaN</td>\n",
       "      <td>NaN</td>\n",
       "      <td>NaN</td>\n",
       "      <td>NaN</td>\n",
       "    </tr>\n",
       "    <tr>\n",
       "      <th>FS</th>\n",
       "      <td>79.0</td>\n",
       "      <td>1060.0</td>\n",
       "      <td>643.0</td>\n",
       "      <td>2455.0</td>\n",
       "      <td>2312.0</td>\n",
       "    </tr>\n",
       "    <tr>\n",
       "      <th>GS</th>\n",
       "      <td>548.0</td>\n",
       "      <td>NaN</td>\n",
       "      <td>NaN</td>\n",
       "      <td>NaN</td>\n",
       "      <td>NaN</td>\n",
       "    </tr>\n",
       "    <tr>\n",
       "      <th>SG</th>\n",
       "      <td>159.0</td>\n",
       "      <td>374.0</td>\n",
       "      <td>351.0</td>\n",
       "      <td>NaN</td>\n",
       "      <td>NaN</td>\n",
       "    </tr>\n",
       "    <tr>\n",
       "      <th>CA</th>\n",
       "      <td>37.0</td>\n",
       "      <td>182.0</td>\n",
       "      <td>170.0</td>\n",
       "      <td>355.0</td>\n",
       "      <td>264.0</td>\n",
       "    </tr>\n",
       "    <tr>\n",
       "      <th>DP</th>\n",
       "      <td>10.0</td>\n",
       "      <td>NaN</td>\n",
       "      <td>NaN</td>\n",
       "      <td>NaN</td>\n",
       "      <td>NaN</td>\n",
       "    </tr>\n",
       "    <tr>\n",
       "      <th>DS</th>\n",
       "      <td>15.0</td>\n",
       "      <td>2215.0</td>\n",
       "      <td>1575.0</td>\n",
       "      <td>3687.0</td>\n",
       "      <td>1461.0</td>\n",
       "    </tr>\n",
       "    <tr>\n",
       "      <th>FC</th>\n",
       "      <td>2.0</td>\n",
       "      <td>1270.0</td>\n",
       "      <td>1080.0</td>\n",
       "      <td>2599.0</td>\n",
       "      <td>1983.0</td>\n",
       "    </tr>\n",
       "    <tr>\n",
       "      <th>CV</th>\n",
       "      <td>3.0</td>\n",
       "      <td>6.0</td>\n",
       "      <td>12.0</td>\n",
       "      <td>14.0</td>\n",
       "      <td>12.0</td>\n",
       "    </tr>\n",
       "    <tr>\n",
       "      <th>PC</th>\n",
       "      <td>5.0</td>\n",
       "      <td>19.0</td>\n",
       "      <td>24.0</td>\n",
       "      <td>7.0</td>\n",
       "      <td>9.0</td>\n",
       "    </tr>\n",
       "    <tr>\n",
       "      <th>A</th>\n",
       "      <td>NaN</td>\n",
       "      <td>81.0</td>\n",
       "      <td>24.0</td>\n",
       "      <td>148.0</td>\n",
       "      <td>124.0</td>\n",
       "    </tr>\n",
       "    <tr>\n",
       "      <th>FD</th>\n",
       "      <td>NaN</td>\n",
       "      <td>143.0</td>\n",
       "      <td>103.0</td>\n",
       "      <td>493.0</td>\n",
       "      <td>679.0</td>\n",
       "    </tr>\n",
       "    <tr>\n",
       "      <th>FF</th>\n",
       "      <td>NaN</td>\n",
       "      <td>259.0</td>\n",
       "      <td>219.0</td>\n",
       "      <td>876.0</td>\n",
       "      <td>1015.0</td>\n",
       "    </tr>\n",
       "    <tr>\n",
       "      <th>FT</th>\n",
       "      <td>NaN</td>\n",
       "      <td>15.0</td>\n",
       "      <td>12.0</td>\n",
       "      <td>55.0</td>\n",
       "      <td>54.0</td>\n",
       "    </tr>\n",
       "    <tr>\n",
       "      <th>I</th>\n",
       "      <td>NaN</td>\n",
       "      <td>71.0</td>\n",
       "      <td>46.0</td>\n",
       "      <td>125.0</td>\n",
       "      <td>420.0</td>\n",
       "    </tr>\n",
       "    <tr>\n",
       "      <th>PI</th>\n",
       "      <td>NaN</td>\n",
       "      <td>9047.0</td>\n",
       "      <td>4537.0</td>\n",
       "      <td>10612.0</td>\n",
       "      <td>7270.0</td>\n",
       "    </tr>\n",
       "    <tr>\n",
       "      <th>G</th>\n",
       "      <td>NaN</td>\n",
       "      <td>25.0</td>\n",
       "      <td>33.0</td>\n",
       "      <td>157.0</td>\n",
       "      <td>295.0</td>\n",
       "    </tr>\n",
       "    <tr>\n",
       "      <th>GC</th>\n",
       "      <td>NaN</td>\n",
       "      <td>3.0</td>\n",
       "      <td>6.0</td>\n",
       "      <td>1.0</td>\n",
       "      <td>NaN</td>\n",
       "    </tr>\n",
       "    <tr>\n",
       "      <th>PP</th>\n",
       "      <td>NaN</td>\n",
       "      <td>1.0</td>\n",
       "      <td>NaN</td>\n",
       "      <td>5.0</td>\n",
       "      <td>7.0</td>\n",
       "    </tr>\n",
       "    <tr>\n",
       "      <th>PS</th>\n",
       "      <td>NaN</td>\n",
       "      <td>3.0</td>\n",
       "      <td>4.0</td>\n",
       "      <td>13.0</td>\n",
       "      <td>22.0</td>\n",
       "    </tr>\n",
       "  </tbody>\n",
       "</table>\n",
       "</div>"
      ],
      "text/plain": [
       "    goleiro  lateral  zagueiro     meia  atacante\n",
       "DE   1534.0      NaN       NaN      NaN       NaN\n",
       "FS     79.0   1060.0     643.0   2455.0    2312.0\n",
       "GS    548.0      NaN       NaN      NaN       NaN\n",
       "SG    159.0    374.0     351.0      NaN       NaN\n",
       "CA     37.0    182.0     170.0    355.0     264.0\n",
       "DP     10.0      NaN       NaN      NaN       NaN\n",
       "DS     15.0   2215.0    1575.0   3687.0    1461.0\n",
       "FC      2.0   1270.0    1080.0   2599.0    1983.0\n",
       "CV      3.0      6.0      12.0     14.0      12.0\n",
       "PC      5.0     19.0      24.0      7.0       9.0\n",
       "A       NaN     81.0      24.0    148.0     124.0\n",
       "FD      NaN    143.0     103.0    493.0     679.0\n",
       "FF      NaN    259.0     219.0    876.0    1015.0\n",
       "FT      NaN     15.0      12.0     55.0      54.0\n",
       "I       NaN     71.0      46.0    125.0     420.0\n",
       "PI      NaN   9047.0    4537.0  10612.0    7270.0\n",
       "G       NaN     25.0      33.0    157.0     295.0\n",
       "GC      NaN      3.0       6.0      1.0       NaN\n",
       "PP      NaN      1.0       NaN      5.0       7.0\n",
       "PS      NaN      3.0       4.0     13.0      22.0"
      ]
     },
     "execution_count": 95,
     "metadata": {},
     "output_type": "execute_result"
    }
   ],
   "source": [
    "scout_df = pd.DataFrame.from_dict(all_scouts)\n",
    "scout_df.columns = ['goleiro', 'lateral', 'zagueiro', 'meia', 'atacante']\n",
    "scout_df"
   ]
  },
  {
   "cell_type": "code",
   "execution_count": 108,
   "id": "34c80729-4442-4913-8756-27bb2c1565f4",
   "metadata": {},
   "outputs": [
    {
     "data": {
      "text/plain": [
       "DE    1.0\n",
       "FS    0.5\n",
       "GS   -1.0\n",
       "SG    5.0\n",
       "CA   -2.0\n",
       "DP    7.0\n",
       "DS    1.0\n",
       "FC   -0.5\n",
       "CV   -5.0\n",
       "PC   -1.0\n",
       "A     5.0\n",
       "FD    1.2\n",
       "FF    0.8\n",
       "FT    3.0\n",
       "I    -0.5\n",
       "PI   -0.1\n",
       "G     8.0\n",
       "GC   -5.0\n",
       "PP   -4.0\n",
       "PS    1.0\n",
       "dtype: float64"
      ]
     },
     "execution_count": 108,
     "metadata": {},
     "output_type": "execute_result"
    }
   ],
   "source": [
    "valores_scout = pd.Series([1.0, 0.5, (-1.0), 5.0, (-2.0), 7.0, 1.0, (-0.5), (-5.0), (-1.0), 5.0, 1.2, 0.8, 3.0, (-0.5), (-0.1), 8.0, (-5.0), (-4.0), 1.0]) #adicionar valor de cada scout\n",
    "valores_scout.index = scout_df.index\n",
    "valores_scout"
   ]
  },
  {
   "cell_type": "code",
   "execution_count": 134,
   "id": "99fa9d54-e879-4144-96be-98f7417729d7",
   "metadata": {
    "tags": []
   },
   "outputs": [
    {
     "data": {
      "text/html": [
       "<div>\n",
       "<style scoped>\n",
       "    .dataframe tbody tr th:only-of-type {\n",
       "        vertical-align: middle;\n",
       "    }\n",
       "\n",
       "    .dataframe tbody tr th {\n",
       "        vertical-align: top;\n",
       "    }\n",
       "\n",
       "    .dataframe thead th {\n",
       "        text-align: right;\n",
       "    }\n",
       "</style>\n",
       "<table border=\"1\" class=\"dataframe\">\n",
       "  <thead>\n",
       "    <tr style=\"text-align: right;\">\n",
       "      <th></th>\n",
       "      <th>goleiro</th>\n",
       "      <th>lateral</th>\n",
       "      <th>zagueiro</th>\n",
       "      <th>meia</th>\n",
       "      <th>atacante</th>\n",
       "    </tr>\n",
       "  </thead>\n",
       "  <tbody>\n",
       "    <tr>\n",
       "      <th>DE</th>\n",
       "      <td>1534.00</td>\n",
       "      <td>NaN</td>\n",
       "      <td>NaN</td>\n",
       "      <td>NaN</td>\n",
       "      <td>NaN</td>\n",
       "    </tr>\n",
       "    <tr>\n",
       "      <th>FS</th>\n",
       "      <td>19.75</td>\n",
       "      <td>265.00</td>\n",
       "      <td>160.75</td>\n",
       "      <td>613.75</td>\n",
       "      <td>578.00</td>\n",
       "    </tr>\n",
       "    <tr>\n",
       "      <th>GS</th>\n",
       "      <td>548.00</td>\n",
       "      <td>NaN</td>\n",
       "      <td>NaN</td>\n",
       "      <td>NaN</td>\n",
       "      <td>NaN</td>\n",
       "    </tr>\n",
       "    <tr>\n",
       "      <th>SG</th>\n",
       "      <td>3975.00</td>\n",
       "      <td>9350.00</td>\n",
       "      <td>8775.00</td>\n",
       "      <td>NaN</td>\n",
       "      <td>NaN</td>\n",
       "    </tr>\n",
       "    <tr>\n",
       "      <th>CA</th>\n",
       "      <td>148.00</td>\n",
       "      <td>728.00</td>\n",
       "      <td>680.00</td>\n",
       "      <td>1420.00</td>\n",
       "      <td>1056.00</td>\n",
       "    </tr>\n",
       "    <tr>\n",
       "      <th>DP</th>\n",
       "      <td>490.00</td>\n",
       "      <td>NaN</td>\n",
       "      <td>NaN</td>\n",
       "      <td>NaN</td>\n",
       "      <td>NaN</td>\n",
       "    </tr>\n",
       "    <tr>\n",
       "      <th>DS</th>\n",
       "      <td>15.00</td>\n",
       "      <td>2215.00</td>\n",
       "      <td>1575.00</td>\n",
       "      <td>3687.00</td>\n",
       "      <td>1461.00</td>\n",
       "    </tr>\n",
       "    <tr>\n",
       "      <th>FC</th>\n",
       "      <td>0.50</td>\n",
       "      <td>317.50</td>\n",
       "      <td>270.00</td>\n",
       "      <td>649.75</td>\n",
       "      <td>495.75</td>\n",
       "    </tr>\n",
       "    <tr>\n",
       "      <th>CV</th>\n",
       "      <td>75.00</td>\n",
       "      <td>150.00</td>\n",
       "      <td>300.00</td>\n",
       "      <td>350.00</td>\n",
       "      <td>300.00</td>\n",
       "    </tr>\n",
       "    <tr>\n",
       "      <th>PC</th>\n",
       "      <td>5.00</td>\n",
       "      <td>19.00</td>\n",
       "      <td>24.00</td>\n",
       "      <td>7.00</td>\n",
       "      <td>9.00</td>\n",
       "    </tr>\n",
       "    <tr>\n",
       "      <th>A</th>\n",
       "      <td>NaN</td>\n",
       "      <td>2025.00</td>\n",
       "      <td>600.00</td>\n",
       "      <td>3700.00</td>\n",
       "      <td>3100.00</td>\n",
       "    </tr>\n",
       "    <tr>\n",
       "      <th>FD</th>\n",
       "      <td>NaN</td>\n",
       "      <td>205.92</td>\n",
       "      <td>148.32</td>\n",
       "      <td>709.92</td>\n",
       "      <td>977.76</td>\n",
       "    </tr>\n",
       "    <tr>\n",
       "      <th>FF</th>\n",
       "      <td>NaN</td>\n",
       "      <td>165.76</td>\n",
       "      <td>140.16</td>\n",
       "      <td>560.64</td>\n",
       "      <td>649.60</td>\n",
       "    </tr>\n",
       "    <tr>\n",
       "      <th>FT</th>\n",
       "      <td>NaN</td>\n",
       "      <td>135.00</td>\n",
       "      <td>108.00</td>\n",
       "      <td>495.00</td>\n",
       "      <td>486.00</td>\n",
       "    </tr>\n",
       "    <tr>\n",
       "      <th>I</th>\n",
       "      <td>NaN</td>\n",
       "      <td>17.75</td>\n",
       "      <td>11.50</td>\n",
       "      <td>31.25</td>\n",
       "      <td>105.00</td>\n",
       "    </tr>\n",
       "    <tr>\n",
       "      <th>PI</th>\n",
       "      <td>NaN</td>\n",
       "      <td>90.47</td>\n",
       "      <td>45.37</td>\n",
       "      <td>106.12</td>\n",
       "      <td>72.70</td>\n",
       "    </tr>\n",
       "    <tr>\n",
       "      <th>G</th>\n",
       "      <td>NaN</td>\n",
       "      <td>1600.00</td>\n",
       "      <td>2112.00</td>\n",
       "      <td>10048.00</td>\n",
       "      <td>18880.00</td>\n",
       "    </tr>\n",
       "    <tr>\n",
       "      <th>GC</th>\n",
       "      <td>NaN</td>\n",
       "      <td>75.00</td>\n",
       "      <td>150.00</td>\n",
       "      <td>25.00</td>\n",
       "      <td>NaN</td>\n",
       "    </tr>\n",
       "    <tr>\n",
       "      <th>PP</th>\n",
       "      <td>NaN</td>\n",
       "      <td>16.00</td>\n",
       "      <td>NaN</td>\n",
       "      <td>80.00</td>\n",
       "      <td>112.00</td>\n",
       "    </tr>\n",
       "    <tr>\n",
       "      <th>PS</th>\n",
       "      <td>NaN</td>\n",
       "      <td>3.00</td>\n",
       "      <td>4.00</td>\n",
       "      <td>13.00</td>\n",
       "      <td>22.00</td>\n",
       "    </tr>\n",
       "  </tbody>\n",
       "</table>\n",
       "</div>"
      ],
      "text/plain": [
       "    goleiro  lateral  zagueiro      meia  atacante\n",
       "DE  1534.00      NaN       NaN       NaN       NaN\n",
       "FS    19.75   265.00    160.75    613.75    578.00\n",
       "GS   548.00      NaN       NaN       NaN       NaN\n",
       "SG  3975.00  9350.00   8775.00       NaN       NaN\n",
       "CA   148.00   728.00    680.00   1420.00   1056.00\n",
       "DP   490.00      NaN       NaN       NaN       NaN\n",
       "DS    15.00  2215.00   1575.00   3687.00   1461.00\n",
       "FC     0.50   317.50    270.00    649.75    495.75\n",
       "CV    75.00   150.00    300.00    350.00    300.00\n",
       "PC     5.00    19.00     24.00      7.00      9.00\n",
       "A       NaN  2025.00    600.00   3700.00   3100.00\n",
       "FD      NaN   205.92    148.32    709.92    977.76\n",
       "FF      NaN   165.76    140.16    560.64    649.60\n",
       "FT      NaN   135.00    108.00    495.00    486.00\n",
       "I       NaN    17.75     11.50     31.25    105.00\n",
       "PI      NaN    90.47     45.37    106.12     72.70\n",
       "G       NaN  1600.00   2112.00  10048.00  18880.00\n",
       "GC      NaN    75.00    150.00     25.00       NaN\n",
       "PP      NaN    16.00       NaN     80.00    112.00\n",
       "PS      NaN     3.00      4.00     13.00     22.00"
      ]
     },
     "execution_count": 134,
     "metadata": {},
     "output_type": "execute_result"
    }
   ],
   "source": [
    "scout_df = scout_df.mul(valores_scout, axis=0)\n",
    "scout_df"
   ]
  },
  {
   "cell_type": "code",
   "execution_count": 163,
   "id": "294ad4fc-56e0-45be-b96e-6f020911e6ba",
   "metadata": {},
   "outputs": [
    {
     "name": "stdout",
     "output_type": "stream",
     "text": [
      "AxesSubplot(0.125,0.749828;0.775x0.130172)\n",
      "AxesSubplot(0.125,0.593621;0.775x0.130172)\n",
      "AxesSubplot(0.125,0.437414;0.775x0.130172)\n",
      "AxesSubplot(0.125,0.281207;0.775x0.130172)\n",
      "AxesSubplot(0.125,0.125;0.775x0.130172)\n"
     ]
    },
    {
     "data": {
      "image/png": "[encoded data removed]",
      "text/plain": [
       "<Figure size 432x288 with 5 Axes>"
      ]
     },
     "metadata": {
      "needs_background": "light"
     },
     "output_type": "display_data"
    }
   ],
   "source": [
    "for i in scout_df.plot(kind='bar', subplots=True):\n",
    "    print(i)"
   ]
  },
  {
   "cell_type": "code",
   "execution_count": 159,
   "id": "9065437a-5ee6-4378-ad3b-c029a2ca8a52",
   "metadata": {},
   "outputs": [
    {
     "data": {
      "text/plain": [
       "goleiro      3975.0\n",
       "lateral      9350.0\n",
       "zagueiro     8775.0\n",
       "meia        10048.0\n",
       "atacante    18880.0\n",
       "dtype: float64"
      ]
     },
     "execution_count": 159,
     "metadata": {},
     "output_type": "execute_result"
    }
   ],
   "source": [
    "scout_df.max(axis=0)"
   ]
  },
  {
   "cell_type": "code",
   "execution_count": null,
   "id": "991b590f-33da-4bdf-8539-aa24fdd2cc7a",
   "metadata": {},
   "outputs": [],
   "source": []
  },
  {
   "cell_type": "code",
   "execution_count": null,
   "id": "6c522769-d74d-44fe-996b-28b20739708c",
   "metadata": {},
   "outputs": [],
   "source": []
  }
 ],
 "metadata": {
  "kernelspec": {
   "display_name": "Python 3 (ipykernel)",
   "language": "python",
   "name": "python3"
  },
  "language_info": {
   "codemirror_mode": {
    "name": "ipython",
    "version": 3
   },
   "file_extension": ".py",
   "mimetype": "text/x-python",
   "name": "python",
   "nbconvert_exporter": "python",
   "pygments_lexer": "ipython3",
   "version": "3.8.10"
  }
 },
 "nbformat": 4,
 "nbformat_minor": 5
}
